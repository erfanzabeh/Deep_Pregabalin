from scipy.io import loadmat

# Specify the path to your .mat file
mat_file_path = 'path/to/your/file.mat'

# Load the .mat file
mat_data = loadmat(mat_file_path)

# Access the variables in the .mat file
# For example, if there is a variable named 'data' in the .mat file:
data_variable = mat_data['data']

# Now you can work with the loaded data in Python

# Example: Print the shape of the 'data' variable
print("Shape of 'data' variable:", data_variable.shape)
