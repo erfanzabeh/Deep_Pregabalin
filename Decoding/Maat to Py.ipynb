{
 "cells": [
  {
   "cell_type": "code",
   "execution_count": 36,
   "metadata": {},
   "outputs": [
    {
     "name": "stdout",
     "output_type": "stream",
     "text": [
      "Shape of 'gab' variable: (1187, 4, 1000)\n"
     ]
    }
   ],
   "source": [
    "from scipy.io import loadmat\n",
    "\n",
    "# Specify the path to your .mat file\n",
    "mat_file_path = '/Users/notz/Desktop/Projects/mouse/Complt_sig.mat'\n",
    "\n",
    "# Load the .mat file\n",
    "mat_data = loadmat(mat_file_path)\n",
    "\n",
    "# Access the variables in the .mat file\n",
    "# For example, if there is a variable named 'data' in the .mat file:\n",
    "gab = mat_data['gab']\n",
    "\n",
    "# Now you can work with the loaded data in Python\n",
    "\n",
    "# Example: Print the shape of the 'data' variable\n",
    "print(\"Shape of 'gab' variable:\", gab.shape)"
   ]
  },
  {
   "cell_type": "code",
   "execution_count": 37,
   "metadata": {},
   "outputs": [
    {
     "name": "stdout",
     "output_type": "stream",
     "text": [
      "Shape of 'dia' variable: (1200, 4, 1000)\n"
     ]
    }
   ],
   "source": [
    "from scipy.io import loadmat\n",
    "\n",
    "# Specify the path to your .mat file\n",
    "mat_file_path = '/Users/notz/Desktop/Projects/mouse/Complt_sig.mat'\n",
    "\n",
    "# Load the .mat file\n",
    "mat_data = loadmat(mat_file_path)\n",
    "\n",
    "# Access the variables in the .mat file\n",
    "# For example, if there is a variable named 'data' in the .mat file:\n",
    "dia = mat_data['dia']\n",
    "\n",
    "# Now you can work with the loaded data in Python\n",
    "\n",
    "# Example: Print the shape of the 'data' variable\n",
    "print(\"Shape of 'dia' variable:\", dia.shape)"
   ]
  },
  {
   "cell_type": "code",
   "execution_count": 38,
   "metadata": {},
   "outputs": [
    {
     "name": "stdout",
     "output_type": "stream",
     "text": [
      "Shape of 'car' variable: (1200, 4, 1000)\n"
     ]
    }
   ],
   "source": [
    "from scipy.io import loadmat\n",
    "\n",
    "# Specify the path to your .mat file\n",
    "mat_file_path = '/Users/notz/Desktop/Projects/mouse/Complt_sig.mat'\n",
    "\n",
    "# Load the .mat file\n",
    "mat_data = loadmat(mat_file_path)\n",
    "\n",
    "# Access the variables in the .mat file\n",
    "# For example, if there is a variable named 'data' in the .mat file:\n",
    "car = mat_data['car']\n",
    "\n",
    "# Now you can work with the loaded data in Python\n",
    "\n",
    "# Example: Print the shape of the 'data' variable\n",
    "print(\"Shape of 'car' variable:\", car.shape)"
   ]
  },
  {
   "cell_type": "code",
   "execution_count": 39,
   "metadata": {},
   "outputs": [
    {
     "name": "stdout",
     "output_type": "stream",
     "text": [
      "Shape of 'pre' variable: (1200, 4, 1000)\n"
     ]
    }
   ],
   "source": [
    "from scipy.io import loadmat\n",
    "\n",
    "# Specify the path to your .mat file\n",
    "mat_file_path = '/Users/notz/Desktop/Projects/mouse/Complt_sig.mat'\n",
    "\n",
    "# Load the .mat file\n",
    "mat_data = loadmat(mat_file_path)\n",
    "\n",
    "# Access the variables in the .mat file\n",
    "# For example, if there is a variable named 'data' in the .mat file:\n",
    "pre = mat_data['pre']\n",
    "\n",
    "# Now you can work with the loaded data in Python\n",
    "\n",
    "# Example: Print the shape of the 'data' variable\n",
    "print(\"Shape of 'pre' variable:\", pre.shape)"
   ]
  },
  {
   "cell_type": "code",
   "execution_count": 40,
   "metadata": {},
   "outputs": [
    {
     "name": "stdout",
     "output_type": "stream",
     "text": [
      "Shape of 'esl' variable: (1199, 4, 1000)\n"
     ]
    }
   ],
   "source": [
    "from scipy.io import loadmat\n",
    "\n",
    "# Specify the path to your .mat file\n",
    "mat_file_path = '/Users/notz/Desktop/Projects/mouse/Complt_sig.mat'\n",
    "\n",
    "# Load the .mat file\n",
    "mat_data = loadmat(mat_file_path)\n",
    "\n",
    "# Access the variables in the .mat file\n",
    "# For example, if there is a variable named 'data' in the .mat file:\n",
    "esl = mat_data['esl']\n",
    "\n",
    "# Now you can work with the loaded data in Python\n",
    "\n",
    "# Example: Print the shape of the 'data' variable\n",
    "print(\"Shape of 'esl' variable:\", esl.shape)"
   ]
  },
  {
   "cell_type": "code",
   "execution_count": 41,
   "metadata": {},
   "outputs": [
    {
     "name": "stdout",
     "output_type": "stream",
     "text": [
      "Shape of 'phe' variable: (1200, 4, 1000)\n"
     ]
    }
   ],
   "source": [
    "from scipy.io import loadmat\n",
    "\n",
    "# Specify the path to your .mat file\n",
    "mat_file_path = '/Users/notz/Desktop/Projects/mouse/Complt_sig.mat'\n",
    "\n",
    "# Load the .mat file\n",
    "mat_data = loadmat(mat_file_path)\n",
    "\n",
    "# Access the variables in the .mat file\n",
    "# For example, if there is a variable named 'data' in the .mat file:\n",
    "phe = mat_data['phe']\n",
    "\n",
    "# Now you can work with the loaded data in Python\n",
    "\n",
    "# Example: Print the shape of the 'data' variable\n",
    "print(\"Shape of 'phe' variable:\", phe.shape)"
   ]
  },
  {
   "cell_type": "code",
   "execution_count": 42,
   "metadata": {},
   "outputs": [
    {
     "name": "stdout",
     "output_type": "stream",
     "text": [
      "Shape of 'are' variable: (1199, 4, 1000)\n"
     ]
    }
   ],
   "source": [
    "from scipy.io import loadmat\n",
    "\n",
    "# Specify the path to your .mat file\n",
    "mat_file_path = '/Users/notz/Desktop/Projects/mouse/Complt_sig.mat'\n",
    "\n",
    "# Load the .mat file\n",
    "mat_data = loadmat(mat_file_path)\n",
    "\n",
    "# Access the variables in the .mat file\n",
    "# For example, if there is a variable named 'data' in the .mat file:\n",
    "are = mat_data['are']\n",
    "\n",
    "# Now you can work with the loaded data in Python\n",
    "\n",
    "# Example: Print the shape of the 'data' variable\n",
    "print(\"Shape of 'are' variable:\", are.shape)"
   ]
  },
  {
   "cell_type": "code",
   "execution_count": 43,
   "metadata": {},
   "outputs": [
    {
     "name": "stdout",
     "output_type": "stream",
     "text": [
      "Shape of 'cor' variable: (1192, 4, 1000)\n"
     ]
    }
   ],
   "source": [
    "from scipy.io import loadmat\n",
    "\n",
    "# Specify the path to your .mat file\n",
    "mat_file_path = '/Users/notz/Desktop/Projects/mouse/Complt_sig.mat'\n",
    "\n",
    "# Load the .mat file\n",
    "mat_data = loadmat(mat_file_path)\n",
    "\n",
    "# Access the variables in the .mat file\n",
    "# For example, if there is a variable named 'data' in the .mat file:\n",
    "cor = mat_data['cor']\n",
    "\n",
    "# Now you can work with the loaded data in Python\n",
    "\n",
    "# Example: Print the shape of the 'data' variable\n",
    "print(\"Shape of 'cor' variable:\", cor.shape)"
   ]
  },
  {
   "cell_type": "code",
   "execution_count": 44,
   "metadata": {},
   "outputs": [
    {
     "name": "stdout",
     "output_type": "stream",
     "text": [
      "Shape of 'pic' variable: (1172, 4, 1000)\n"
     ]
    }
   ],
   "source": [
    "from scipy.io import loadmat\n",
    "\n",
    "# Specify the path to your .mat file\n",
    "mat_file_path = '/Users/notz/Desktop/Projects/mouse/Complt_sig.mat'\n",
    "\n",
    "# Load the .mat file\n",
    "mat_data = loadmat(mat_file_path)\n",
    "\n",
    "# Access the variables in the .mat file\n",
    "# For example, if there is a variable named 'data' in the .mat file:\n",
    "pic = mat_data['pic']\n",
    "\n",
    "# Now you can work with the loaded data in Python\n",
    "\n",
    "# Example: Print the shape of the 'data' variable\n",
    "print(\"Shape of 'pic' variable:\", pic.shape)"
   ]
  },
  {
   "cell_type": "code",
   "execution_count": 45,
   "metadata": {},
   "outputs": [
    {
     "name": "stdout",
     "output_type": "stream",
     "text": [
      "Shape of 'pil' variable: (1200, 4, 1000)\n"
     ]
    }
   ],
   "source": [
    "from scipy.io import loadmat\n",
    "\n",
    "# Specify the path to your .mat file\n",
    "mat_file_path = '/Users/notz/Desktop/Projects/mouse/Complt_sig.mat'\n",
    "\n",
    "# Load the .mat file\n",
    "mat_data = loadmat(mat_file_path)\n",
    "\n",
    "# Access the variables in the .mat file\n",
    "# For example, if there is a variable named 'data' in the .mat file:\n",
    "pil = mat_data['pil']\n",
    "\n",
    "# Now you can work with the loaded data in Python\n",
    "\n",
    "# Example: Print the shape of the 'data' variable\n",
    "print(\"Shape of 'pil' variable:\", pil.shape)"
   ]
  },
  {
   "cell_type": "code",
   "execution_count": 48,
   "metadata": {},
   "outputs": [
    {
     "name": "stdout",
     "output_type": "stream",
     "text": [
      "Shape of 'chl' variable: (1200, 4, 1000)\n"
     ]
    }
   ],
   "source": [
    "from scipy.io import loadmat\n",
    "\n",
    "# Specify the path to your .mat file\n",
    "mat_file_path = '/Users/notz/Desktop/Projects/mouse/Complt_sig.mat'\n",
    "\n",
    "# Load the .mat file\n",
    "mat_data = loadmat(mat_file_path)\n",
    "\n",
    "# Access the variables in the .mat file\n",
    "# For example, if there is a variable named 'data' in the .mat file:\n",
    "chl = mat_data['chl']\n",
    "\n",
    "# Now you can work with the loaded data in Python\n",
    "\n",
    "# Example: Print the shape of the 'data' variable\n",
    "print(\"Shape of 'chl' variable:\", chl.shape)"
   ]
  },
  {
   "cell_type": "code",
   "execution_count": null,
   "metadata": {},
   "outputs": [],
   "source": []
  }
 ],
 "metadata": {
  "language_info": {
   "name": "python"
  }
 },
 "nbformat": 4,
 "nbformat_minor": 2
}
