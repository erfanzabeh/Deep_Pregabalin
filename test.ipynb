{
 "cells": [
  {
   "cell_type": "code",
   "execution_count": 1,
   "metadata": {},
   "outputs": [
    {
     "ename": "FileNotFoundError",
     "evalue": "[Errno 2] No such file or directory: '/Users/notz/Desktop/Projects/mouse/Complt_sig.mat'",
     "output_type": "error",
     "traceback": [
      "\u001b[0;31m---------------------------------------------------------------------------\u001b[0m",
      "\u001b[0;31mFileNotFoundError\u001b[0m                         Traceback (most recent call last)",
      "File \u001b[0;32m/Library/Frameworks/Python.framework/Versions/3.10/lib/python3.10/site-packages/scipy/io/matlab/_mio.py:39\u001b[0m, in \u001b[0;36m_open_file\u001b[0;34m(file_like, appendmat, mode)\u001b[0m\n\u001b[1;32m     38\u001b[0m \u001b[39mtry\u001b[39;00m:\n\u001b[0;32m---> 39\u001b[0m     \u001b[39mreturn\u001b[39;00m \u001b[39mopen\u001b[39;49m(file_like, mode), \u001b[39mTrue\u001b[39;00m\n\u001b[1;32m     40\u001b[0m \u001b[39mexcept\u001b[39;00m \u001b[39mOSError\u001b[39;00m \u001b[39mas\u001b[39;00m e:\n\u001b[1;32m     41\u001b[0m     \u001b[39m# Probably \"not found\"\u001b[39;00m\n",
      "\u001b[0;31mFileNotFoundError\u001b[0m: [Errno 2] No such file or directory: '/Users/notz/Desktop/Projects/mouse/Complt_sig.mat'",
      "\nDuring handling of the above exception, another exception occurred:\n",
      "\u001b[0;31mFileNotFoundError\u001b[0m                         Traceback (most recent call last)",
      "\u001b[1;32m/Users/Erfan/Documents/GitHub/Deep_Pregabalin/test.ipynb Cell 1\u001b[0m line \u001b[0;36m1\n\u001b[1;32m      <a href='vscode-notebook-cell:/Users/Erfan/Documents/GitHub/Deep_Pregabalin/test.ipynb#W0sZmlsZQ%3D%3D?line=8'>9</a>\u001b[0m lfp \u001b[39m=\u001b[39m \u001b[39mdict\u001b[39m()\n\u001b[1;32m     <a href='vscode-notebook-cell:/Users/Erfan/Documents/GitHub/Deep_Pregabalin/test.ipynb#W0sZmlsZQ%3D%3D?line=9'>10</a>\u001b[0m mat_file_path \u001b[39m=\u001b[39m \u001b[39m'\u001b[39m\u001b[39m/Users/notz/Desktop/Projects/mouse/Complt_sig.mat\u001b[39m\u001b[39m'\u001b[39m\n\u001b[0;32m---> <a href='vscode-notebook-cell:/Users/Erfan/Documents/GitHub/Deep_Pregabalin/test.ipynb#W0sZmlsZQ%3D%3D?line=10'>11</a>\u001b[0m data \u001b[39m=\u001b[39m loadmat(mat_file_path)\n\u001b[1;32m     <a href='vscode-notebook-cell:/Users/Erfan/Documents/GitHub/Deep_Pregabalin/test.ipynb#W0sZmlsZQ%3D%3D?line=11'>12</a>\u001b[0m lfp[\u001b[39m'\u001b[39m\u001b[39mpre\u001b[39m\u001b[39m'\u001b[39m] \u001b[39m=\u001b[39m data[\u001b[39m'\u001b[39m\u001b[39mpre\u001b[39m\u001b[39m'\u001b[39m]\n\u001b[1;32m     <a href='vscode-notebook-cell:/Users/Erfan/Documents/GitHub/Deep_Pregabalin/test.ipynb#W0sZmlsZQ%3D%3D?line=12'>13</a>\u001b[0m lfp[\u001b[39m'\u001b[39m\u001b[39mare\u001b[39m\u001b[39m'\u001b[39m] \u001b[39m=\u001b[39m data[\u001b[39m'\u001b[39m\u001b[39mare\u001b[39m\u001b[39m'\u001b[39m]\n",
      "File \u001b[0;32m/Library/Frameworks/Python.framework/Versions/3.10/lib/python3.10/site-packages/scipy/io/matlab/_mio.py:225\u001b[0m, in \u001b[0;36mloadmat\u001b[0;34m(file_name, mdict, appendmat, **kwargs)\u001b[0m\n\u001b[1;32m     88\u001b[0m \u001b[39m\u001b[39m\u001b[39m\"\"\"\u001b[39;00m\n\u001b[1;32m     89\u001b[0m \u001b[39mLoad MATLAB file.\u001b[39;00m\n\u001b[1;32m     90\u001b[0m \n\u001b[0;32m   (...)\u001b[0m\n\u001b[1;32m    222\u001b[0m \u001b[39m    3.14159265+3.14159265j])\u001b[39;00m\n\u001b[1;32m    223\u001b[0m \u001b[39m\"\"\"\u001b[39;00m\n\u001b[1;32m    224\u001b[0m variable_names \u001b[39m=\u001b[39m kwargs\u001b[39m.\u001b[39mpop(\u001b[39m'\u001b[39m\u001b[39mvariable_names\u001b[39m\u001b[39m'\u001b[39m, \u001b[39mNone\u001b[39;00m)\n\u001b[0;32m--> 225\u001b[0m \u001b[39mwith\u001b[39;00m _open_file_context(file_name, appendmat) \u001b[39mas\u001b[39;00m f:\n\u001b[1;32m    226\u001b[0m     MR, _ \u001b[39m=\u001b[39m mat_reader_factory(f, \u001b[39m*\u001b[39m\u001b[39m*\u001b[39mkwargs)\n\u001b[1;32m    227\u001b[0m     matfile_dict \u001b[39m=\u001b[39m MR\u001b[39m.\u001b[39mget_variables(variable_names)\n",
      "File \u001b[0;32m/Library/Frameworks/Python.framework/Versions/3.10/lib/python3.10/contextlib.py:135\u001b[0m, in \u001b[0;36m_GeneratorContextManager.__enter__\u001b[0;34m(self)\u001b[0m\n\u001b[1;32m    133\u001b[0m \u001b[39mdel\u001b[39;00m \u001b[39mself\u001b[39m\u001b[39m.\u001b[39margs, \u001b[39mself\u001b[39m\u001b[39m.\u001b[39mkwds, \u001b[39mself\u001b[39m\u001b[39m.\u001b[39mfunc\n\u001b[1;32m    134\u001b[0m \u001b[39mtry\u001b[39;00m:\n\u001b[0;32m--> 135\u001b[0m     \u001b[39mreturn\u001b[39;00m \u001b[39mnext\u001b[39;49m(\u001b[39mself\u001b[39;49m\u001b[39m.\u001b[39;49mgen)\n\u001b[1;32m    136\u001b[0m \u001b[39mexcept\u001b[39;00m \u001b[39mStopIteration\u001b[39;00m:\n\u001b[1;32m    137\u001b[0m     \u001b[39mraise\u001b[39;00m \u001b[39mRuntimeError\u001b[39;00m(\u001b[39m\"\u001b[39m\u001b[39mgenerator didn\u001b[39m\u001b[39m'\u001b[39m\u001b[39mt yield\u001b[39m\u001b[39m\"\u001b[39m) \u001b[39mfrom\u001b[39;00m \u001b[39mNone\u001b[39;00m\n",
      "File \u001b[0;32m/Library/Frameworks/Python.framework/Versions/3.10/lib/python3.10/site-packages/scipy/io/matlab/_mio.py:17\u001b[0m, in \u001b[0;36m_open_file_context\u001b[0;34m(file_like, appendmat, mode)\u001b[0m\n\u001b[1;32m     15\u001b[0m \u001b[39m@contextmanager\u001b[39m\n\u001b[1;32m     16\u001b[0m \u001b[39mdef\u001b[39;00m \u001b[39m_open_file_context\u001b[39m(file_like, appendmat, mode\u001b[39m=\u001b[39m\u001b[39m'\u001b[39m\u001b[39mrb\u001b[39m\u001b[39m'\u001b[39m):\n\u001b[0;32m---> 17\u001b[0m     f, opened \u001b[39m=\u001b[39m _open_file(file_like, appendmat, mode)\n\u001b[1;32m     18\u001b[0m     \u001b[39mtry\u001b[39;00m:\n\u001b[1;32m     19\u001b[0m         \u001b[39myield\u001b[39;00m f\n",
      "File \u001b[0;32m/Library/Frameworks/Python.framework/Versions/3.10/lib/python3.10/site-packages/scipy/io/matlab/_mio.py:45\u001b[0m, in \u001b[0;36m_open_file\u001b[0;34m(file_like, appendmat, mode)\u001b[0m\n\u001b[1;32m     43\u001b[0m     \u001b[39mif\u001b[39;00m appendmat \u001b[39mand\u001b[39;00m \u001b[39mnot\u001b[39;00m file_like\u001b[39m.\u001b[39mendswith(\u001b[39m'\u001b[39m\u001b[39m.mat\u001b[39m\u001b[39m'\u001b[39m):\n\u001b[1;32m     44\u001b[0m         file_like \u001b[39m+\u001b[39m\u001b[39m=\u001b[39m \u001b[39m'\u001b[39m\u001b[39m.mat\u001b[39m\u001b[39m'\u001b[39m\n\u001b[0;32m---> 45\u001b[0m     \u001b[39mreturn\u001b[39;00m \u001b[39mopen\u001b[39;49m(file_like, mode), \u001b[39mTrue\u001b[39;00m\n\u001b[1;32m     46\u001b[0m \u001b[39melse\u001b[39;00m:\n\u001b[1;32m     47\u001b[0m     \u001b[39mraise\u001b[39;00m \u001b[39mOSError\u001b[39;00m(\n\u001b[1;32m     48\u001b[0m         \u001b[39m'\u001b[39m\u001b[39mReader needs file name or open file-like object\u001b[39m\u001b[39m'\u001b[39m\n\u001b[1;32m     49\u001b[0m     ) \u001b[39mfrom\u001b[39;00m \u001b[39me\u001b[39;00m\n",
      "\u001b[0;31mFileNotFoundError\u001b[0m: [Errno 2] No such file or directory: '/Users/notz/Desktop/Projects/mouse/Complt_sig.mat'"
     ]
    }
   ],
   "source": [
    "import pywt\n",
    "import numpy as np\n",
    "import matplotlib.pyplot as plt\n",
    "import matplotlib.colors as mcolors\n",
    "from scipy.signal import cwt\n",
    "from scipy.io import loadmat\n",
    "\n",
    "# Load iEEG data\n",
    "lfp = dict()\n",
    "mat_file_path = '/Users/notz/Desktop/Projects/mouse/Complt_sig.mat'\n",
    "data = loadmat(mat_file_path)\n",
    "lfp['pre'] = data['pre']\n",
    "lfp['are'] = data['are']\n",
    "lfp['gab'] = data['gab']\n",
    "\n",
    "# General analysis parameters\n",
    "trl_num = lfp['pre'].shape[0]\n",
    "cnhl_num = lfp['pre'].shape[1]\n",
    "Fs = 500\n",
    "Time = np.arange(1, lfp['pre'].shape[2] + 1) / Fs\n",
    "\n",
    "# Demo\n",
    "trl = 901\n",
    "plt.figure()\n",
    "for chnl in range(4):\n",
    "    x = lfp['pre'][trl, chnl, :]\n",
    "    clr = [0, 1 - 1/(chnl + 1), 1 - 1/(chnl + 1)]\n",
    "    plt.plot(Time, chnl + x, color=clr)\n",
    "\n",
    "plt.show()\n",
    "\n",
    "# Drug comparison\n",
    "clr1 = [0.5, 0.8, 0.8]\n",
    "clr2 = [0.5, 0.5, 0.5]\n",
    "clr3 = [0.8, 0.5, 0.5]\n",
    "\n",
    "drug_strn = ['Pregabalin', 'Gabapentin', 'Arecoline']\n",
    "trl = 90\n",
    "chnl = 2\n",
    "\n",
    "plt.figure(figsize=(10, 6))\n",
    "\n",
    "# Pregabalin\n",
    "plt.subplot(3, 3, 1)\n",
    "x = lfp['pre'][trl, chnl, :]\n",
    "plt.plot(Time, x, color=clr1, linewidth=2)\n",
    "plt.title(drug_strn[0])\n",
    "plt.box(False)\n",
    "\n",
    "# Gabapentin\n",
    "plt.subplot(3, 3, 4)\n",
    "x = lfp['gab'][trl, chnl, :]\n",
    "plt.plot(Time, x, color=clr2, linewidth=2)\n",
    "plt.title(f'Similar Drug ({drug_strn[1]})')\n",
    "plt.box(False)\n",
    "\n",
    "# Arecoline\n",
    "plt.subplot(3, 3, 7)\n",
    "x = lfp['are'][trl, chnl, :]\n",
    "plt.plot(Time, x, color=clr3, linewidth=2)\n",
    "plt.title('Other Drug (Arecoline)')\n",
    "plt.box(False)\n",
    "\n",
    "plt.tight_layout()\n",
    "plt.show()\n",
    "width = np.array(2)\n",
    "# Calculate Power Spectrogram\n",
    "power = []\n",
    "\n",
    "for drug in range(3):\n",
    "   signal = lfp['pre'] if drug == 0 else (lfp['gab'] if drug == 1 else lfp['are'])\n",
    "# Convert to an array\n",
    "\n",
    "for trl in range(trl_num // 5):\n",
    "    \n",
    "    y = signal[trl, chnl, :]\n",
    "    cfs, frq = pywt.cwt(y, np.arange(1,128), 'mexh' )\n",
    "    power.append(cfs)\n",
    "\n",
    "# Plot Power Spectrum\n",
    "plt.figure(figsize=(10, 6))\n",
    "eqlzr1 = []\n",
    "eqlzr2 = []\n",
    "\n",
    "for drug in range(3):\n",
    "    plt.subplot(3, 3, 3 * drug + 1)\n",
    "    avg_pwr = np.abs(np.nanmean(power[drug::3], axis=0).T)\n",
    "    start_freq = np.argmin(np.abs(frq - 300))\n",
    "    A = avg_pwr[:, start_freq:]\n",
    "    plt.pcolormesh(Time, frq[start_freq:], A, shading='auto', cmap='RdBu_r', vmax=np.max(A), vmin=np.min(A))\n",
    "#    plt.imshow(Time, extent=[-1, 64, 1, 2], cmap='PRGn', aspect='auto',\n",
    " #          vmax=np.max(A), vmin=np.min(A))  \n",
    "    eqlzr1.append(np.max(A))\n",
    "    eqlzr2.append(np.min(A))\n",
    "    plt.yscale('log')\n",
    "    plt.ylabel('Frequency')\n",
    "    plt.xlabel('Trial Time (s)')\n",
    "    plt.colorbar()\n",
    "\n",
    "for drug in range(3):\n",
    "    plt.subplot(3, 3, 3 * drug + 1)\n",
    "    plt.clim(np.min(eqlzr2), np.max(eqlzr1))\n",
    "\n",
    "plt.show()"
   ]
  },
  {
   "cell_type": "code",
   "execution_count": 2,
   "metadata": {},
   "outputs": [
    {
     "name": "stderr",
     "output_type": "stream",
     "text": [
      "/Library/Frameworks/Python.framework/Versions/3.10/lib/python3.10/site-packages/torch/_tensor_str.py:115: UserWarning: MPS: nonzero op is supported natively starting from macOS 13.0. Falling back on CPU. This may have performance implications. (Triggered internally at /Users/runner/work/pytorch/pytorch/pytorch/aten/src/ATen/native/mps/operations/Indexing.mm:218.)\n",
      "  nonzero_finite_vals = torch.masked_select(\n"
     ]
    },
    {
     "name": "stdout",
     "output_type": "stream",
     "text": [
      "tensor([1.], device='mps:0')\n"
     ]
    }
   ],
   "source": [
    "import torch\n",
    "if torch.backends.mps.is_available():\n",
    "    mps_device = torch.device(\"mps\")\n",
    "    x = torch.ones(1, device=mps_device)\n",
    "    print (x)\n",
    "else:\n",
    "    print (\"MPS device not found.\")"
   ]
  }
 ],
 "metadata": {
  "kernelspec": {
   "display_name": "Python 3",
   "language": "python",
   "name": "python3"
  },
  "language_info": {
   "codemirror_mode": {
    "name": "ipython",
    "version": 3
   },
   "file_extension": ".py",
   "mimetype": "text/x-python",
   "name": "python",
   "nbconvert_exporter": "python",
   "pygments_lexer": "ipython3",
   "version": "3.10.9"
  }
 },
 "nbformat": 4,
 "nbformat_minor": 2
}
